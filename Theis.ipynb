{
 "cells": [
  {
   "cell_type": "code",
   "execution_count": 1,
   "id": "fifteen-marble",
   "metadata": {},
   "outputs": [
    {
     "name": "stdout",
     "output_type": "stream",
     "text": [
      "Requirement already satisfied: numpy in ./jupyterenv/lib/python3.7/site-packages (1.20.1)\n",
      "\u001b[33mWARNING: You are using pip version 20.1.1; however, version 21.0.1 is available.\n",
      "You should consider upgrading via the '/home/ubuntu/catherine_work/Drawdown/jupyterenv/bin/python3.7 -m pip install --upgrade pip' command.\u001b[0m\n",
      "Requirement already satisfied: scipy in ./jupyterenv/lib/python3.7/site-packages (1.6.2)\n",
      "Requirement already satisfied: numpy<1.23.0,>=1.16.5 in ./jupyterenv/lib/python3.7/site-packages (from scipy) (1.20.1)\n",
      "\u001b[33mWARNING: You are using pip version 20.1.1; however, version 21.0.1 is available.\n",
      "You should consider upgrading via the '/home/ubuntu/catherine_work/Drawdown/jupyterenv/bin/python3.7 -m pip install --upgrade pip' command.\u001b[0m\n",
      "Requirement already satisfied: matplotlib in ./jupyterenv/lib/python3.7/site-packages (3.3.4)\n",
      "Requirement already satisfied: cycler>=0.10 in ./jupyterenv/lib/python3.7/site-packages (from matplotlib) (0.10.0)\n",
      "Requirement already satisfied: pillow>=6.2.0 in ./jupyterenv/lib/python3.7/site-packages (from matplotlib) (8.1.2)\n",
      "Requirement already satisfied: pyparsing!=2.0.4,!=2.1.2,!=2.1.6,>=2.0.3 in ./jupyterenv/lib/python3.7/site-packages (from matplotlib) (2.4.7)\n",
      "Requirement already satisfied: python-dateutil>=2.1 in ./jupyterenv/lib/python3.7/site-packages (from matplotlib) (2.8.1)\n",
      "Requirement already satisfied: kiwisolver>=1.0.1 in ./jupyterenv/lib/python3.7/site-packages (from matplotlib) (1.3.1)\n",
      "Requirement already satisfied: numpy>=1.15 in ./jupyterenv/lib/python3.7/site-packages (from matplotlib) (1.20.1)\n",
      "Requirement already satisfied: six in ./jupyterenv/lib/python3.7/site-packages (from cycler>=0.10->matplotlib) (1.15.0)\n",
      "\u001b[33mWARNING: You are using pip version 20.1.1; however, version 21.0.1 is available.\n",
      "You should consider upgrading via the '/home/ubuntu/catherine_work/Drawdown/jupyterenv/bin/python3.7 -m pip install --upgrade pip' command.\u001b[0m\n"
     ]
    }
   ],
   "source": [
    "# Installs required pip packages in the current Jupyter kernel\n",
    "import sys\n",
    "!{sys.executable} -m pip install numpy\n",
    "!{sys.executable} -m pip install scipy\n",
    "!{sys.executable} -m pip install matplotlib\n",
    "\n"
   ]
  },
  {
   "cell_type": "code",
   "execution_count": 2,
   "id": "relevant-theology",
   "metadata": {},
   "outputs": [],
   "source": [
    "import numpy as np\n"
   ]
  },
  {
   "cell_type": "code",
   "execution_count": 3,
   "id": "developing-clinic",
   "metadata": {},
   "outputs": [
    {
     "name": "stdout",
     "output_type": "stream",
     "text": [
      "      u           wu   \n",
      "   4.0e+00   3.7794e-03\n",
      "   4.0e-01   7.0238e-01\n",
      "   4.0e-02   2.6813e+00\n",
      "   4.0e-03   4.9482e+00\n",
      "   4.0e-04   7.2472e+00\n",
      "   4.0e-05   9.5495e+00\n",
      "   4.0e-06   1.1852e+01\n",
      "   4.0e-07   1.4155e+01\n",
      "   4.0e-08   1.6457e+01\n",
      "   4.0e-09   1.8760e+01\n",
      "   4.0e-10   2.1062e+01\n"
     ]
    }
   ],
   "source": [
    "#import and check the Exponential integral function (also known as Theis well function)\n",
    "from scipy.special import expi\n",
    "u = 4 * 10** -np.arange(11.)   # generates values 4, 4e-1, 4e-2 .. 4e-10\n",
    "print(\"{:>10s}   {:>10s}\".format('u   ', 'wu   '))\n",
    "for u, wu in zip(u, -expi(-u)):  # makes a list of value pairs [u, W(u)]\n",
    "    print(\"{0:10.1e}   {1:10.4e}\".format(u, wu))"
   ]
  },
  {
   "cell_type": "code",
   "execution_count": 4,
   "id": "permanent-washington",
   "metadata": {},
   "outputs": [],
   "source": [
    "#define W as anonymous (lambda) function\n",
    "from scipy.special import expi\n",
    "W = lambda u : -expi(-u)"
   ]
  },
  {
   "cell_type": "code",
   "execution_count": 5,
   "id": "varying-colony",
   "metadata": {},
   "outputs": [],
   "source": [
    "#define W as regular function\n",
    "def W(u): return -expi(-u)"
   ]
  },
  {
   "cell_type": "code",
   "execution_count": 6,
   "id": "daily-tactics",
   "metadata": {},
   "outputs": [],
   "source": [
    "#define W as Theis Well function in scipy\n",
    "\n",
    "import scipy\n",
    "W = lambda u: -scipy.special.expi( -u ) "
   ]
  },
  {
   "cell_type": "code",
   "execution_count": 18,
   "id": "continuous-knight",
   "metadata": {},
   "outputs": [
    {
     "name": "stdout",
     "output_type": "stream",
     "text": [
      "    r = 100 ft\n",
      "    t = 1.0 s\n",
      "    kD = 0.000172 ft2/s\n",
      "    S = 0.07809 [-]\n",
      "    Q = 0.009 ft3/s\n",
      "    u = 1.135e+06 [-]\n",
      "    W(u) = 0 [-]\n",
      "    s(r, t) = 0 ft\n"
     ]
    }
   ],
   "source": [
    "\"\"\"\n",
    "For example: what is the drawdown after \n",
    "𝑡=1𝑑 at distance 𝑟=100 ft \n",
    "by a well extracting 𝑄=2400𝑚3/𝑑 \n",
    "in a confined aquifer with \n",
    "transmissivity 𝑘𝐷=2400𝑚2/𝑑 and \n",
    "storage coefficient 𝑆=0.001 [-] ?\n",
    "\n",
    "radius\tr\t100\tft\n",
    "\n",
    "Storativity\tS\t0.07809\tdimensionless\n",
    "\n",
    "Transmissivity\tkD\t0.000172\tft2/s\n",
    "\n",
    "time\tt\t86400\tseconds\n",
    "\n",
    "drawdown\th0-h\t3\tft, bgs\n",
    "\n",
    "\n",
    "flow rate\tQ\t0.009\tft3/2\n",
    "\n",
    "\"\"\"\n",
    "\n",
    "r = 100; t = 1.; kD=0.000172; S=0.07809; Q=0.009\n",
    "u = r**2 * S / (4 * kD * t)\n",
    "\n",
    "s = Q/(4 * np.pi * kD) * W(u)  # applying the theis well function according to the book\n",
    "\n",
    "print(\"    r = {} ft\\n\\\n",
    "    t = {} s\\n\\\n",
    "    kD = {} ft2/s\\n\\\n",
    "    S = {} [-]\\n\\\n",
    "    Q = {} ft3/s\\n\\\n",
    "    u = {:.5g} [-]\\n\\\n",
    "    W(u) = {:.5g} [-]\\n\\\n",
    "    s(r, t) = {:.5g} ft\".\n",
    "      format(r, t, kD, S, Q, u, W(u), s))"
   ]
  },
  {
   "cell_type": "code",
   "execution_count": 19,
   "id": "brutal-flush",
   "metadata": {},
   "outputs": [],
   "source": [
    "#define a lambda function for u\n",
    "u = lambda r, t: r**2 *S /(4.* kD * t)"
   ]
  },
  {
   "cell_type": "code",
   "execution_count": 20,
   "id": "atlantic-trouble",
   "metadata": {},
   "outputs": [
    {
     "data": {
      "text/plain": [
       "1135029.0697674418"
      ]
     },
     "execution_count": 20,
     "metadata": {},
     "output_type": "execute_result"
    }
   ],
   "source": [
    "u(r,t)  # yields u as a function of r and t"
   ]
  },
  {
   "cell_type": "code",
   "execution_count": 21,
   "id": "normal-finger",
   "metadata": {},
   "outputs": [
    {
     "data": {
      "text/plain": [
       "0.0"
      ]
     },
     "execution_count": 21,
     "metadata": {},
     "output_type": "execute_result"
    }
   ],
   "source": [
    "W(u(r,t))  # given W(u) as a function of r and t"
   ]
  },
  {
   "cell_type": "code",
   "execution_count": 22,
   "id": "blind-belarus",
   "metadata": {},
   "outputs": [
    {
     "data": {
      "text/plain": [
       "0.0"
      ]
     },
     "execution_count": 22,
     "metadata": {},
     "output_type": "execute_result"
    }
   ],
   "source": [
    "Q/(4 * np.pi * kD) * W(u(r,t)) # gives the drawdown that we had before"
   ]
  },
  {
   "cell_type": "code",
   "execution_count": 52,
   "id": "tender-assignment",
   "metadata": {},
   "outputs": [],
   "source": [
    "t = np.logspace(5, 7, 51) # gives 51 times on log scale between 10^(5) = 0.001 and 10^(7) = 100"
   ]
  },
  {
   "cell_type": "code",
   "execution_count": 53,
   "id": "assured-delaware",
   "metadata": {},
   "outputs": [
    {
     "name": "stdout",
     "output_type": "stream",
     "text": [
      "\n",
      "   1e+05  1.1e+05  1.2e+05 1.32e+05 1.45e+05 1.58e+05 1.74e+05 1.91e+05 2.09e+05 2.29e+05 \n",
      "2.51e+05 2.75e+05 3.02e+05 3.31e+05 3.63e+05 3.98e+05 4.37e+05 4.79e+05 5.25e+05 5.75e+05 \n",
      "6.31e+05 6.92e+05 7.59e+05 8.32e+05 9.12e+05    1e+06  1.1e+06  1.2e+06 1.32e+06 1.45e+06 \n",
      "1.58e+06 1.74e+06 1.91e+06 2.09e+06 2.29e+06 2.51e+06 2.75e+06 3.02e+06 3.31e+06 3.63e+06 \n",
      "3.98e+06 4.37e+06 4.79e+06 5.25e+06 5.75e+06 6.31e+06 6.92e+06 7.59e+06 8.32e+06 9.12e+06 \n",
      "   1e+07 "
     ]
    }
   ],
   "source": [
    "for it, tt in enumerate(t):\n",
    "    if it %10 ==0: print()\n",
    "    print(\"%8.3g\" % tt, end=\" \")"
   ]
  },
  {
   "cell_type": "code",
   "execution_count": 54,
   "id": "romantic-franchise",
   "metadata": {},
   "outputs": [
    {
     "data": {
      "text/plain": [
       "array([3.98988105e-06, 1.17962644e-05, 3.19255453e-05, 7.97050540e-05,\n",
       "       1.84856952e-04, 4.00836335e-04, 8.17358886e-04, 1.57572966e-03,\n",
       "       2.88587954e-03, 5.04336301e-03, 8.44414845e-03, 1.35949711e-02,\n",
       "       2.11173575e-02, 3.17441093e-02, 4.63079176e-02, 6.57226954e-02,\n",
       "       9.09590062e-02, 1.23015521e-01, 1.62888695e-01, 2.11542835e-01,\n",
       "       2.69882467e-01, 3.38728511e-01, 4.18799255e-01, 5.10696650e-01,\n",
       "       6.14897985e-01, 7.31752641e-01, 8.61483356e-01, 1.00419128e+00,\n",
       "       1.15986404e+00, 1.32838591e+00, 1.50954951e+00, 1.70306818e+00,\n",
       "       1.90858857e+00, 2.12570295e+00, 2.35396091e+00, 2.59288027e+00,\n",
       "       2.84195683e+00, 3.10067318e+00, 3.36850627e+00, 3.64493396e+00,\n",
       "       3.92944041e+00, 4.22152063e+00, 4.52068399e+00, 4.82645700e+00,\n",
       "       5.13838543e+00, 5.45603572e+00, 5.77899593e+00, 6.10687626e+00,\n",
       "       6.43930917e+00, 6.77594920e+00, 7.11647261e+00])"
      ]
     },
     "execution_count": 54,
     "metadata": {},
     "output_type": "execute_result"
    }
   ],
   "source": [
    "s = Q / (4 * np.pi * kD) * W(u(r,t)) # computes s(r,t)\n",
    "s # shows s(r,t)"
   ]
  },
  {
   "cell_type": "code",
   "execution_count": 55,
   "id": "personalized-beginning",
   "metadata": {},
   "outputs": [
    {
     "name": "stdout",
     "output_type": "stream",
     "text": [
      "time       drawdown  \n",
      "     1e+05   3.99e-06\n",
      "   1.1e+05   1.18e-05\n",
      "   1.2e+05   3.19e-05\n",
      "  1.32e+05   7.97e-05\n",
      "  1.45e+05   0.000185\n",
      "  1.58e+05   0.000401\n",
      "  1.74e+05   0.000817\n",
      "  1.91e+05    0.00158\n",
      "  2.09e+05    0.00289\n",
      "  2.29e+05    0.00504\n",
      "  2.51e+05    0.00844\n",
      "  2.75e+05     0.0136\n",
      "  3.02e+05     0.0211\n",
      "  3.31e+05     0.0317\n",
      "  3.63e+05     0.0463\n",
      "  3.98e+05     0.0657\n",
      "  4.37e+05      0.091\n",
      "  4.79e+05      0.123\n",
      "  5.25e+05      0.163\n",
      "  5.75e+05      0.212\n",
      "  6.31e+05       0.27\n",
      "  6.92e+05      0.339\n",
      "  7.59e+05      0.419\n",
      "  8.32e+05      0.511\n",
      "  9.12e+05      0.615\n",
      "     1e+06      0.732\n",
      "   1.1e+06      0.861\n",
      "   1.2e+06          1\n",
      "  1.32e+06       1.16\n",
      "  1.45e+06       1.33\n",
      "  1.58e+06       1.51\n",
      "  1.74e+06        1.7\n",
      "  1.91e+06       1.91\n",
      "  2.09e+06       2.13\n",
      "  2.29e+06       2.35\n",
      "  2.51e+06       2.59\n",
      "  2.75e+06       2.84\n",
      "  3.02e+06        3.1\n",
      "  3.31e+06       3.37\n",
      "  3.63e+06       3.64\n",
      "  3.98e+06       3.93\n",
      "  4.37e+06       4.22\n",
      "  4.79e+06       4.52\n",
      "  5.25e+06       4.83\n",
      "  5.75e+06       5.14\n",
      "  6.31e+06       5.46\n",
      "  6.92e+06       5.78\n",
      "  7.59e+06       6.11\n",
      "  8.32e+06       6.44\n",
      "  9.12e+06       6.78\n",
      "     1e+07       7.12\n"
     ]
    }
   ],
   "source": [
    "#print side by side for graphing\n",
    "print(\"{:10s} {:10s}\".format('time', 'drawdown'))\n",
    "for tt, ss in zip(t,s):\n",
    "    print(\"{0:10.3g} {1:10.3g}\".format(tt,ss))"
   ]
  },
  {
   "cell_type": "code",
   "execution_count": 56,
   "id": "prerequisite-vermont",
   "metadata": {},
   "outputs": [],
   "source": [
    "import matplotlib.pyplot as plt"
   ]
  },
  {
   "cell_type": "code",
   "execution_count": 57,
   "id": "executive-income",
   "metadata": {
    "scrolled": true
   },
   "outputs": [
    {
     "data": {
      "image/png": "[encoded data removed]",
      "text/plain": [
       "<Figure size 432x288 with 2 Axes>"
      ]
     },
     "metadata": {
      "needs_background": "light"
     },
     "output_type": "display_data"
    }
   ],
   "source": [
    "fig = plt.figure()\n",
    "\n",
    "# Drawdown versus log(t)\n",
    "ax1 = fig.add_subplot(121)\n",
    "ax1.set(xlabel='time [s]', ylabel='drawdown [ft]', xscale='log', title='Drawdown versus log(t)')\n",
    "ax1.invert_yaxis()\n",
    "ax1.grid(True)\n",
    "plt.plot(t, s)\n",
    "\n",
    "# Drawdown versus t\n",
    "ax2 = fig.add_subplot(122)\n",
    "ax2.set(xlabel='time [s]', ylabel='', xscale='linear', title='Drawdown versus t')\n",
    "ax2.invert_yaxis()\n",
    "ax2.grid(True)\n",
    "plt.plot(t, s)\n",
    "\n",
    "plt.show()"
   ]
  },
  {
   "cell_type": "code",
   "execution_count": null,
   "id": "handmade-trainer",
   "metadata": {},
   "outputs": [],
   "source": []
  }
 ],
 "metadata": {
  "kernelspec": {
   "display_name": "Python 3",
   "language": "python",
   "name": "python3"
  },
  "language_info": {
   "codemirror_mode": {
    "name": "ipython",
    "version": 3
   },
   "file_extension": ".py",
   "mimetype": "text/x-python",
   "name": "python",
   "nbconvert_exporter": "python",
   "pygments_lexer": "ipython3",
   "version": "3.7.10"
  }
 },
 "nbformat": 4,
 "nbformat_minor": 5
}
